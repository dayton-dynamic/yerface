{
 "cells": [
  {
   "cell_type": "markdown",
   "id": "a2e10966-d1be-4cfe-bfec-dc78f40f288b",
   "metadata": {},
   "source": [
    "This just repeats elements from [yerface.ipynb](yerface.ipynb), but is meant to help you do it yourself with your own choices."
   ]
  },
  {
   "cell_type": "code",
   "execution_count": null,
   "id": "35493565",
   "metadata": {},
   "outputs": [],
   "source": [
    "import io\n",
    "import requests\n",
    "from PIL import Image"
   ]
  },
  {
   "cell_type": "markdown",
   "id": "bd208217-fa16-4c4b-8485-4dd4e012377c",
   "metadata": {},
   "source": [
    "## Get your images"
   ]
  },
  {
   "cell_type": "code",
   "execution_count": null,
   "id": "6fa38307",
   "metadata": {},
   "outputs": [],
   "source": [
    "url1 = \"https://assets.speakcdn.com/assets/2941/westernpondturtle3161_mo.jpg\"\n",
    "\n",
    "resp = requests.get(url1, stream=True)\n",
    "img1 = Image.open(io.BytesIO(resp.content))"
   ]
  },
  {
   "cell_type": "code",
   "execution_count": null,
   "id": "82198b17-24b0-42d3-9dbf-4611d027c446",
   "metadata": {},
   "outputs": [],
   "source": [
    "img1"
   ]
  },
  {
   "cell_type": "code",
   "execution_count": null,
   "id": "7219577a-b84c-4745-b1e3-792c53f34653",
   "metadata": {},
   "outputs": [],
   "source": [
    "url2 = \"https://www.pyohio.org/2024/_astro/pyohio-2024-animation.70a5c6f8_29X4xx.webp\"\n",
    "\n",
    "resp = requests.get(url2, stream=True)\n",
    "img2 = Image.open(io.BytesIO(resp.content))"
   ]
  },
  {
   "cell_type": "code",
   "execution_count": null,
   "id": "69cee816-ecf1-4613-835f-dadf001b062a",
   "metadata": {},
   "outputs": [],
   "source": [
    "img2"
   ]
  },
  {
   "cell_type": "markdown",
   "id": "2afc914f-2daf-4878-b801-9003fbe08656",
   "metadata": {},
   "source": [
    "Adjust img2's size (can also try `contain`, `cover`, `pad`)"
   ]
  },
  {
   "cell_type": "code",
   "execution_count": null,
   "id": "05409f01-5f91-4385-adfa-b1feb901f528",
   "metadata": {},
   "outputs": [],
   "source": [
    "from PIL import ImageOps\n",
    "img2_resized = ImageOps.fit(img2, img1.size)"
   ]
  },
  {
   "cell_type": "code",
   "execution_count": null,
   "id": "ef5c5f2a-32dd-46d8-9d37-e220ca6389d8",
   "metadata": {},
   "outputs": [],
   "source": [
    "meme = Image.new(mode=img1.mode, \n",
    "                 size=(img1.width + img2_resized.width,\n",
    "                       img1.height)\n",
    "                )"
   ]
  },
  {
   "cell_type": "code",
   "execution_count": null,
   "id": "0a7d2e17-24b4-46d2-9427-052339e40204",
   "metadata": {},
   "outputs": [],
   "source": [
    "meme"
   ]
  },
  {
   "cell_type": "code",
   "execution_count": null,
   "id": "b36709ab-1111-421b-9941-10e6d90122ef",
   "metadata": {},
   "outputs": [],
   "source": [
    "meme.paste(img1, (0, 0))\n",
    "meme"
   ]
  },
  {
   "cell_type": "code",
   "execution_count": null,
   "id": "c92a2f55-bb81-4230-9584-1914db051d86",
   "metadata": {},
   "outputs": [],
   "source": [
    "meme.paste(img2_resized, (img1.width, 0))"
   ]
  },
  {
   "cell_type": "code",
   "execution_count": null,
   "id": "aeed8bab-a284-462a-979a-a8828af111e8",
   "metadata": {},
   "outputs": [],
   "source": [
    "meme"
   ]
  },
  {
   "cell_type": "markdown",
   "id": "c1956d66-4f42-40a2-8b32-5e2213389740",
   "metadata": {},
   "source": [
    "# Drawing and writing"
   ]
  },
  {
   "cell_type": "code",
   "execution_count": null,
   "id": "cb8ee5f4-9aa1-4edd-853b-08dd8f1b767b",
   "metadata": {},
   "outputs": [],
   "source": [
    "from PIL import ImageDraw, ImageFont"
   ]
  },
  {
   "cell_type": "code",
   "execution_count": null,
   "id": "9a52c46a-0cbb-4a3a-b7cc-3fb9713d7679",
   "metadata": {},
   "outputs": [],
   "source": [
    "font = ImageFont.load_default(48)"
   ]
  },
  {
   "cell_type": "code",
   "execution_count": null,
   "id": "f3df4f86-c369-41a9-8f89-baf29296d2e1",
   "metadata": {},
   "outputs": [],
   "source": [
    "drawing = ImageDraw.Draw(meme)\n",
    "drawing.text(\n",
    "    (100, 100),  \n",
    "    \"something clever\",\n",
    "    font=font,\n",
    ")"
   ]
  },
  {
   "cell_type": "code",
   "execution_count": null,
   "id": "31eef9f6-f81b-4c03-8f0a-3d7d2419df32",
   "metadata": {},
   "outputs": [],
   "source": [
    "meme"
   ]
  },
  {
   "cell_type": "code",
   "execution_count": null,
   "id": "ea219bc7-52d8-4896-a5c4-9a2fc2290eee",
   "metadata": {},
   "outputs": [],
   "source": []
  }
 ],
 "metadata": {
  "kernelspec": {
   "display_name": "Python 3 (ipykernel)",
   "language": "python",
   "name": "python3"
  },
  "language_info": {
   "codemirror_mode": {
    "name": "ipython",
    "version": 3
   },
   "file_extension": ".py",
   "mimetype": "text/x-python",
   "name": "python",
   "nbconvert_exporter": "python",
   "pygments_lexer": "ipython3",
   "version": "3.12.3"
  }
 },
 "nbformat": 4,
 "nbformat_minor": 5
}
