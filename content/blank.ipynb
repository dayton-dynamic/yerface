{
 "cells": [
  {
   "cell_type": "code",
   "execution_count": null,
   "id": "35493565",
   "metadata": {},
   "outputs": [],
   "source": [
    "import io\n",
    "import requests\n",
    "from PIL import Image"
   ]
  },
  {
   "cell_type": "code",
   "execution_count": null,
   "id": "4b312db3",
   "metadata": {},
   "outputs": [],
   "source": [
    "url = \"https://assets.speakcdn.com/assets/2941/westernpondturtle3161_mo.jpg\"\n",
    "\n",
    "resp = requests.get(url, stream=True)\n",
    "img = Image.open(io.BytesIO(resp.content))"
   ]
  },
  {
   "cell_type": "code",
   "execution_count": null,
   "id": "b2e278d0-e8fb-4fd2-8797-3e1f50cbe844",
   "metadata": {},
   "outputs": [],
   "source": [
    "img"
   ]
  },
  {
   "cell_type": "code",
   "execution_count": null,
   "id": "fa332b1b-4169-46de-8648-fa7bcd8cd271",
   "metadata": {},
   "outputs": [],
   "source": [
    "face = img.crop((800, 200, 1100, 500))"
   ]
  },
  {
   "cell_type": "code",
   "execution_count": null,
   "id": "2275924a-4967-4c62-8288-097028c6c108",
   "metadata": {},
   "outputs": [],
   "source": [
    "face"
   ]
  },
  {
   "cell_type": "code",
   "execution_count": null,
   "id": "ea219bc7-52d8-4896-a5c4-9a2fc2290eee",
   "metadata": {},
   "outputs": [],
   "source": []
  }
 ],
 "metadata": {
  "kernelspec": {
   "display_name": "Python 3 (ipykernel)",
   "language": "python",
   "name": "python3"
  },
  "language_info": {
   "codemirror_mode": {
    "name": "ipython",
    "version": 3
   },
   "file_extension": ".py",
   "mimetype": "text/x-python",
   "name": "python",
   "nbconvert_exporter": "python",
   "pygments_lexer": "ipython3",
   "version": "3.12.3"
  }
 },
 "nbformat": 4,
 "nbformat_minor": 5
}
