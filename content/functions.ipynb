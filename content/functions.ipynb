{
 "cells": [
  {
   "cell_type": "code",
   "execution_count": null,
   "id": "35493565",
   "metadata": {},
   "outputs": [],
   "source": [
    "import io\n",
    "import requests\n",
    "from PIL import Image"
   ]
  },
  {
   "cell_type": "code",
   "execution_count": null,
   "id": "4b312db3",
   "metadata": {},
   "outputs": [],
   "source": [
    "url = \"https://assets.speakcdn.com/assets/2941/westernpondturtle3161_mo.jpg\"\n",
    "\n",
    "resp = requests.get(url, stream=True)\n",
    "img = Image.open(io.BytesIO(resp.content))"
   ]
  },
  {
   "cell_type": "code",
   "execution_count": null,
   "id": "b2e278d0-e8fb-4fd2-8797-3e1f50cbe844",
   "metadata": {},
   "outputs": [],
   "source": [
    "img"
   ]
  },
  {
   "cell_type": "code",
   "execution_count": null,
   "id": "fa332b1b-4169-46de-8648-fa7bcd8cd271",
   "metadata": {},
   "outputs": [],
   "source": [
    "face = img.crop((800, 200, 1100, 500))"
   ]
  },
  {
   "cell_type": "code",
   "execution_count": null,
   "id": "2275924a-4967-4c62-8288-097028c6c108",
   "metadata": {},
   "outputs": [],
   "source": [
    "face"
   ]
  },
  {
   "cell_type": "code",
   "execution_count": null,
   "id": "ea219bc7-52d8-4896-a5c4-9a2fc2290eee",
   "metadata": {},
   "outputs": [],
   "source": [
    "face.split()"
   ]
  },
  {
   "cell_type": "markdown",
   "id": "04e3093e-b168-4c8d-b22e-c7940385fe7b",
   "metadata": {},
   "source": [
    "This represents how much Red, Green, and Blue (RGB) was in the original image."
   ]
  },
  {
   "cell_type": "code",
   "execution_count": null,
   "id": "4eb8e72b-aa6e-4142-8835-76c4bf5bbd07",
   "metadata": {},
   "outputs": [],
   "source": [
    "raw_color_bands = face.split()"
   ]
  },
  {
   "cell_type": "code",
   "execution_count": null,
   "id": "dc5e3b00-7cd3-4008-9fc1-726f300a0da9",
   "metadata": {},
   "outputs": [],
   "source": [
    "raw_color_bands[0]"
   ]
  },
  {
   "cell_type": "code",
   "execution_count": null,
   "id": "4693546e-6680-44fc-9068-7aacda41d485",
   "metadata": {},
   "outputs": [],
   "source": [
    "bands = {'R': raw_color_bands[0], 'G': raw_color_bands[1], 'B': raw_color_bands[2]}"
   ]
  },
  {
   "cell_type": "code",
   "execution_count": null,
   "id": "b13c3bcf-dc82-487c-a7c4-7f3286760e06",
   "metadata": {},
   "outputs": [],
   "source": [
    "bands"
   ]
  },
  {
   "cell_type": "markdown",
   "id": "7fd153f9-459b-4b8c-9d6b-6446cb494207",
   "metadata": {},
   "source": [
    "## Put bands back to recreate the image"
   ]
  },
  {
   "cell_type": "code",
   "execution_count": null,
   "id": "8ad87e40-ed2a-4451-a4b9-e5b38f0dd82a",
   "metadata": {},
   "outputs": [],
   "source": [
    "list(bands.values())"
   ]
  },
  {
   "cell_type": "code",
   "execution_count": null,
   "id": "54a1dae6-cd32-43bf-87a0-f188cff2c38b",
   "metadata": {},
   "outputs": [],
   "source": [
    "Image.merge(face.mode, list(bands.values()))"
   ]
  },
  {
   "cell_type": "markdown",
   "id": "9674806f-4e40-4514-96b2-c563b84de8bf",
   "metadata": {},
   "source": [
    "## Blue Turtle"
   ]
  },
  {
   "cell_type": "code",
   "execution_count": null,
   "id": "dbfe1d94-3f8b-405b-bab8-685ca7964037",
   "metadata": {},
   "outputs": [],
   "source": [
    "bands['B'] "
   ]
  },
  {
   "cell_type": "code",
   "execution_count": null,
   "id": "d66495e0-d7ea-4e3e-afc4-afaa5437d622",
   "metadata": {},
   "outputs": [],
   "source": [
    "def twice_as_intense(pixel_value):\n",
    "    return pixel_value * 2"
   ]
  },
  {
   "cell_type": "code",
   "execution_count": null,
   "id": "c08cb8c9-8d78-485e-99e4-3fea57a97b21",
   "metadata": {},
   "outputs": [],
   "source": [
    "(bands['B']).point(twice_as_intense)"
   ]
  },
  {
   "cell_type": "code",
   "execution_count": null,
   "id": "fa2dc4a7-1e88-4599-9ba1-d6fd8c81c7c0",
   "metadata": {},
   "outputs": [],
   "source": [
    "Image.merge(face.mode, (\n",
    "    bands['R'],\n",
    "    bands['G'],\n",
    "    bands['B'].point(twice_as_intense)))"
   ]
  },
  {
   "cell_type": "markdown",
   "id": "40b6d4f5-2d2f-4d94-9070-4b9cd05ba860",
   "metadata": {},
   "source": [
    "### Wipe out a color"
   ]
  },
  {
   "cell_type": "code",
   "execution_count": null,
   "id": "83d936e3-3999-4f0e-9e58-dd697c55ec5f",
   "metadata": {},
   "outputs": [],
   "source": [
    "def zero(pixel_value):\n",
    "    return 0 "
   ]
  },
  {
   "cell_type": "code",
   "execution_count": null,
   "id": "e643454c-2be4-4851-a1d4-024e5a5d1dbc",
   "metadata": {},
   "outputs": [],
   "source": [
    "Image.merge(face.mode, (\n",
    "    bands['R'],\n",
    "    bands['G'],\n",
    "    bands['B'].point(zero)))"
   ]
  },
  {
   "cell_type": "code",
   "execution_count": null,
   "id": "e430262e-f966-4cfe-b6cc-b9bbf6735c23",
   "metadata": {},
   "outputs": [],
   "source": [
    "Image.merge(face.mode, (\n",
    "    bands['R'].point(zero),\n",
    "    bands['G'].point(twice_as_intense),\n",
    "    bands['B']))"
   ]
  },
  {
   "cell_type": "markdown",
   "id": "f8941275-adf6-44a8-acbe-aa46cd4c5c18",
   "metadata": {},
   "source": [
    "## Invert the blue\n",
    "\n",
    "Each pixel value is 0 to 255, so... "
   ]
  },
  {
   "cell_type": "code",
   "execution_count": null,
   "id": "4c643a37-5e5a-447c-94b4-859604365ce9",
   "metadata": {},
   "outputs": [],
   "source": [
    "def invert(pixel_value):\n",
    "    return 255 - pixel_value"
   ]
  },
  {
   "cell_type": "code",
   "execution_count": null,
   "id": "5a3999e2-1939-48dd-9ecd-3b7b40d1a090",
   "metadata": {},
   "outputs": [],
   "source": [
    "Image.merge(face.mode, (\n",
    "    bands['R'].point(invert),\n",
    "    bands['G'],\n",
    "    bands['B']))"
   ]
  },
  {
   "cell_type": "code",
   "execution_count": null,
   "id": "e03c189c-85a0-4a0d-8b91-11c3b1e7f373",
   "metadata": {},
   "outputs": [],
   "source": []
  }
 ],
 "metadata": {
  "kernelspec": {
   "display_name": "Python 3 (ipykernel)",
   "language": "python",
   "name": "python3"
  },
  "language_info": {
   "codemirror_mode": {
    "name": "ipython",
    "version": 3
   },
   "file_extension": ".py",
   "mimetype": "text/x-python",
   "name": "python",
   "nbconvert_exporter": "python",
   "pygments_lexer": "ipython3",
   "version": "3.12.3"
  }
 },
 "nbformat": 4,
 "nbformat_minor": 5
}
