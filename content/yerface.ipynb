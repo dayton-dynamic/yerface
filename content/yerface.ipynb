{
 "cells": [
  {
   "cell_type": "markdown",
   "id": "d5e346f6-cd5b-4a43-a570-360db6626233",
   "metadata": {},
   "source": [
    "# Learn Python\n",
    "\n",
    "## With Yer Face\n"
   ]
  },
  {
   "cell_type": "markdown",
   "id": "4db5dfda-b78f-47c5-98e3-1ad491721593",
   "metadata": {},
   "source": [
    "## Brace for jargon\n",
    "\n",
    "I'll try to define common programming terms the first time I use them.  I'm not going to avoid the jargon, though, since you'll need it to understand the talks at PyOhio."
   ]
  },
  {
   "cell_type": "markdown",
   "id": "4a9620d3-d420-475a-95a7-68e1a33e4342",
   "metadata": {},
   "source": [
    "# What's Python\n",
    "\n",
    "## A computer language\n",
    "\n",
    "A way to write instructions so that a computer can understand them \n",
    "\n",
    "## An \"interpreter\"\n",
    "\n",
    "The program that actually reads those instructions and carries them out.  \n",
    "\n",
    "Before you can read instructions written in Spanish, you need to install Spanish in your brain - that is, you need to learn Spanish.  Before the computer can run instructions in Python, you need to install Python on it."
   ]
  },
  {
   "cell_type": "markdown",
   "id": "5239b948",
   "metadata": {},
   "source": [
    "# Ways to run Python\n",
    "\n",
    "## At a command prompt\n",
    "\n",
    "## From a text file\n",
    "\n",
    "## In a Jupyter notebook"
   ]
  },
  {
   "cell_type": "markdown",
   "id": "a34a6a8e",
   "metadata": {},
   "source": [
    "# Learning in an *online* notebook\n",
    "\n",
    "- Executing a cell  \n",
    "\n",
    "- Redo old cells\n",
    "\n",
    "- Adding cells\n",
    "\n",
    "- Save your pictures: Shift + Right-Click\n",
    "\n",
    "- Download your notebook"
   ]
  },
  {
   "cell_type": "markdown",
   "id": "40db6a9a",
   "metadata": {},
   "source": [
    "# Let's go\n",
    "\n",
    "## import a library"
   ]
  },
  {
   "cell_type": "code",
   "execution_count": null,
   "id": "733236aa-7703-4bf1-843a-8c9a819d42e3",
   "metadata": {},
   "outputs": [],
   "source": []
  },
  {
   "cell_type": "code",
   "execution_count": null,
   "id": "35493565",
   "metadata": {},
   "outputs": [],
   "source": [
    "import io\n",
    "import requests\n",
    "from PIL import Image"
   ]
  },
  {
   "cell_type": "markdown",
   "id": "ef0c77bd",
   "metadata": {},
   "source": [
    "Remember that you have to execute that cell with the \"Play\" button or with Ctrl-Enter or Alt-Enter\n",
    "\n",
    "A \"library\" is a set of code that's already been written that you can use.  In order to use it in any partcular Python program, or in an interactive session like in this Jupyter notebook, you use the `import` statement to get Python ready to use it.  I think of this like getting your cooking tools out of the cupboard and onto the kitchen countertop.\n",
    "\n",
    "`PIL` here refers to the [Pillow library](https://pillow.readthedocs.io/en/stable/), which will be our workhorse for today.\n",
    "\n",
    "\n",
    "We're going to download an image from the [Sacramento Zoo](https://www.saczoo.org/western-pond-turtle) and display it."
   ]
  },
  {
   "cell_type": "code",
   "execution_count": null,
   "id": "6fa38307",
   "metadata": {},
   "outputs": [],
   "source": [
    "url = \"https://assets.speakcdn.com/assets/2941/westernpondturtle3161_mo.jpg\"\n",
    "\n",
    "resp = requests.get(url, stream=True)\n",
    "Image.open(io.BytesIO(resp.content))"
   ]
  },
  {
   "cell_type": "markdown",
   "id": "12779ae0",
   "metadata": {},
   "source": [
    "We're going to skip over some of the details here because they'd normally be in a more advanced tutorial.  But the important things this code does are:\n",
    "\n",
    "- Got some data out of a file\n",
    "- Made a an image \"object\" from that data \n",
    "- Jupyter Notebook knows how to display that image object\n",
    "\n",
    "But next we need to put that object somewhere.  Otherwise we can't do anything with it, and Python won't even keep it around."
   ]
  },
  {
   "cell_type": "code",
   "execution_count": null,
   "id": "4b312db3",
   "metadata": {},
   "outputs": [],
   "source": [
    "url = \"https://assets.speakcdn.com/assets/2941/westernpondturtle3161_mo.jpg\"\n",
    "\n",
    "resp = requests.get(url, stream=True)\n",
    "img = Image.open(io.BytesIO(resp.content))"
   ]
  },
  {
   "cell_type": "markdown",
   "id": "8399a66d",
   "metadata": {},
   "source": [
    "Nothing happened?\n",
    "\n",
    "- Made an image \"object\"\n",
    "- Created a name, `img`\n",
    "- With `=`, \"assigned\" that name to the object\n",
    "\n",
    "Now we have a name attached to that data, so we can do things with it.  Like display it again:"
   ]
  },
  {
   "cell_type": "code",
   "execution_count": null,
   "id": "b2e278d0-e8fb-4fd2-8797-3e1f50cbe844",
   "metadata": {},
   "outputs": [],
   "source": [
    "img"
   ]
  },
  {
   "cell_type": "markdown",
   "id": "d6fd01b1-0f54-4cd5-bfcb-fb3fc945e0c1",
   "metadata": {},
   "source": [
    "Go ahead - show us that turtle again.  Type `img` in the next cell and execute it."
   ]
  },
  {
   "cell_type": "code",
   "execution_count": null,
   "id": "fc054e12-4e89-404b-a0b5-dd1d3a3b70fd",
   "metadata": {},
   "outputs": [],
   "source": []
  },
  {
   "cell_type": "markdown",
   "id": "795afbd9-a230-422c-84a0-977cbfdaa107",
   "metadata": {},
   "source": [
    "## Attributes and methods\n",
    "\n",
    "Pieces of data that belong to an object are called its \"attributes\".  For example, an image has a size:"
   ]
  },
  {
   "cell_type": "code",
   "execution_count": null,
   "id": "47b6d25b-aa2a-4a01-a23a-e72b08297f5c",
   "metadata": {},
   "outputs": [],
   "source": [
    "img.height"
   ]
  },
  {
   "cell_type": "code",
   "execution_count": null,
   "id": "cf3068d8-15ff-4c94-a376-62c293373cf1",
   "metadata": {},
   "outputs": [],
   "source": [
    "img.width"
   ]
  },
  {
   "cell_type": "markdown",
   "id": "50ec901f-d30f-4cb9-ba71-ffc98def5f16",
   "metadata": {},
   "source": [
    "It also has things it \"knows\" how to do.  We call these the object's \"methods\".  For instance:"
   ]
  },
  {
   "cell_type": "code",
   "execution_count": null,
   "id": "b2e57f60-16a1-470c-a07b-66b3f9349134",
   "metadata": {},
   "outputs": [],
   "source": [
    "img.rotate"
   ]
  },
  {
   "cell_type": "markdown",
   "id": "c607ac72-2cea-43d5-a170-a0cd441882a5",
   "metadata": {},
   "source": [
    "In Jupyter, we can use `?` to get more information about a method like `.rotate`."
   ]
  },
  {
   "cell_type": "code",
   "execution_count": null,
   "id": "0efb8962-902f-4791-9b41-2ac627ce58cb",
   "metadata": {},
   "outputs": [],
   "source": [
    "img.rotate?"
   ]
  },
  {
   "cell_type": "markdown",
   "id": "08398611-9227-48b8-9e8b-0049b89c5472",
   "metadata": {},
   "source": [
    "To actually make a method do its thing, we \"call\" it, attaching `()` after its name.  Often, \"arguments\" go inside those parentheses,\n",
    "giving the method details about what to do - in this case, for example, how many degrees to rotate."
   ]
  },
  {
   "cell_type": "code",
   "execution_count": null,
   "id": "7894c976-c5f8-4076-9100-1df3f080ba8a",
   "metadata": {},
   "outputs": [],
   "source": [
    "img.rotate(180)"
   ]
  },
  {
   "cell_type": "markdown",
   "id": "fdf9b053-7387-445f-a198-3242394d2032",
   "metadata": {},
   "source": [
    "Try calling `.rotate` again, but this time choose your own \"argument\" - fill in the number of degrees you want to rotate, and execute the cell."
   ]
  },
  {
   "cell_type": "code",
   "execution_count": null,
   "id": "1f959af1-cc31-4f4d-98b7-9fda585e408d",
   "metadata": {},
   "outputs": [],
   "source": [
    "img.rotate(    )"
   ]
  },
  {
   "cell_type": "markdown",
   "id": "e18d19a6-c347-4484-aac0-2abf494f38d6",
   "metadata": {},
   "source": [
    "## Lists / Tuples"
   ]
  },
  {
   "cell_type": "markdown",
   "id": "ffeafbfb-795a-4776-b610-c8ec1219767c",
   "metadata": {},
   "source": [
    "Some data is made up of smaller pieces of data."
   ]
  },
  {
   "cell_type": "code",
   "execution_count": null,
   "id": "f5c463c5-152d-4756-bd4e-a97556f0a2a0",
   "metadata": {},
   "outputs": [],
   "source": [
    "img.size"
   ]
  },
  {
   "cell_type": "markdown",
   "id": "c08d565e-56c5-4826-bb19-04c3fc712202",
   "metadata": {},
   "source": [
    "This is a \"tuple\", and you can single out specific elements with square brackets and a number.  The numbers start at zero, not one..."
   ]
  },
  {
   "cell_type": "code",
   "execution_count": null,
   "id": "61cfe21f-f5d0-4553-9307-8248518df2b0",
   "metadata": {},
   "outputs": [],
   "source": [
    "img.size[0]"
   ]
  },
  {
   "cell_type": "code",
   "execution_count": null,
   "id": "b5eb3f12-8c2e-4865-b900-04dc49026cec",
   "metadata": {},
   "outputs": [],
   "source": [
    "img.size[1]"
   ]
  },
  {
   "cell_type": "markdown",
   "id": "d36266cd-280f-4a87-9100-2deea7863f9e",
   "metadata": {},
   "source": [
    "Let's put together a tuple to get a piece of our image."
   ]
  },
  {
   "cell_type": "code",
   "execution_count": null,
   "id": "59501d03-f09a-4d8d-b695-3e06cc3f0a40",
   "metadata": {},
   "outputs": [],
   "source": [
    "img.crop?"
   ]
  },
  {
   "cell_type": "code",
   "execution_count": null,
   "id": "2c7847f6-44c1-4b2b-b8aa-386b1934eb35",
   "metadata": {},
   "outputs": [],
   "source": [
    "box = (500, 500, 700, 700)"
   ]
  },
  {
   "cell_type": "code",
   "execution_count": null,
   "id": "0e190455-9345-4e58-8c18-d928c25eeed2",
   "metadata": {},
   "outputs": [],
   "source": [
    "img.crop(box)"
   ]
  },
  {
   "cell_type": "code",
   "execution_count": null,
   "id": "b26c2665-e305-437b-8831-ecf9c1b94927",
   "metadata": {},
   "outputs": [],
   "source": [
    "box = (, , , )  # Fill in some x, y, x, y coordinates of your own!\n",
    "img.crop(box)"
   ]
  },
  {
   "cell_type": "code",
   "execution_count": null,
   "id": "1b03ca50-8e5e-4776-99a7-abcf102b830f",
   "metadata": {},
   "outputs": [],
   "source": [
    "box =   # Define a tuple with four elements \n",
    "img.crop(box)"
   ]
  },
  {
   "cell_type": "markdown",
   "id": "8212dc72-9aa7-447e-9813-b60469cb8977",
   "metadata": {},
   "source": [
    "So how would we take just the upper left quadrant of the image?  Use some calculations to set up the image:"
   ]
  },
  {
   "cell_type": "code",
   "execution_count": null,
   "id": "798495de-5dcf-44cd-884e-d92937467d0c",
   "metadata": {},
   "outputs": [],
   "source": [
    "box = (0, 0,  # The upper left corner is at x=0, y=0 \n",
    "       img.width / 2,  # halfway across the image\n",
    "       img.height / 2  # halfway down the image\n",
    "      )"
   ]
  },
  {
   "cell_type": "code",
   "execution_count": null,
   "id": "6710f34c-d733-4d31-bb6c-00a959a5cbfd",
   "metadata": {},
   "outputs": [],
   "source": [
    "box"
   ]
  },
  {
   "cell_type": "code",
   "execution_count": null,
   "id": "217eaa1d-be01-434f-a17b-6ecea13b4776",
   "metadata": {},
   "outputs": [],
   "source": [
    "img.crop(box)"
   ]
  },
  {
   "cell_type": "markdown",
   "id": "1210ae25-f2da-428c-b29f-82cdea94c19b",
   "metadata": {},
   "source": [
    "# Drawing on the image\n",
    "\n",
    "I want to zoom in on our turtle's face, and I'm tired of guessing.  It would be nice to have grid lines on our image.  We'll start by creating a copy of our original image to draw on, so we don't muss up the original."
   ]
  },
  {
   "cell_type": "code",
   "execution_count": null,
   "id": "a69be44c-e35e-4719-a445-84f8055a46db",
   "metadata": {},
   "outputs": [],
   "source": [
    "pic = img.copy()"
   ]
  },
  {
   "cell_type": "code",
   "execution_count": null,
   "id": "b83f225a-d139-4827-b303-99be7a986fe8",
   "metadata": {},
   "outputs": [],
   "source": [
    "pic"
   ]
  },
  {
   "cell_type": "markdown",
   "id": "889bd905-a08b-459e-b8f7-3da0b6ce44a6",
   "metadata": {},
   "source": [
    "Next we make a `Draw` object that is associated with our picture."
   ]
  },
  {
   "cell_type": "code",
   "execution_count": null,
   "id": "6279b86a-6eba-4054-b5c4-0c1bce6120b3",
   "metadata": {},
   "outputs": [],
   "source": [
    "from PIL import ImageDraw\n",
    "drawing = ImageDraw.Draw(pic)"
   ]
  },
  {
   "cell_type": "markdown",
   "id": "d8f765d5-5874-4115-9821-03e011f26968",
   "metadata": {},
   "source": [
    "`drawing` isn't actually a picture, and if we try to display it, it's really boring."
   ]
  },
  {
   "cell_type": "code",
   "execution_count": null,
   "id": "19474958-8bd6-4a91-be23-11322fad4f35",
   "metadata": {},
   "outputs": [],
   "source": [
    "drawing"
   ]
  },
  {
   "cell_type": "markdown",
   "id": "0e17ac20-12c5-411d-a65e-92888cbdbe02",
   "metadata": {},
   "source": [
    "But `drawing` has a bunch of methods that we can now call to change `pic`.  Put your cursor after the period and hit `<TAB>` in the next cell to see a drop-down list of the methods available."
   ]
  },
  {
   "cell_type": "code",
   "execution_count": null,
   "id": "2b65564b-8d38-4764-ab28-19522c398492",
   "metadata": {},
   "outputs": [],
   "source": [
    "drawing."
   ]
  },
  {
   "cell_type": "code",
   "execution_count": null,
   "id": "ccd49fc5-f160-4e0e-a898-01231ed57b4e",
   "metadata": {},
   "outputs": [],
   "source": [
    "drawing.line?"
   ]
  },
  {
   "cell_type": "markdown",
   "id": "3f4dafb8-d92f-405a-b1e0-b5fc85f575a6",
   "metadata": {},
   "source": [
    "x, y coordinates on an image generally go from (0, 0) in the upper-left corner, with x increasing as you move left, and y increasing as you move down.  So a line from (0, 0) to (100, 100) should look diagonal:"
   ]
  },
  {
   "cell_type": "code",
   "execution_count": null,
   "id": "a0da3306-a721-4f3d-b3e1-b3777c5febf9",
   "metadata": {},
   "outputs": [],
   "source": [
    "drawing.line((0, 0, 100, 100))"
   ]
  },
  {
   "cell_type": "code",
   "execution_count": null,
   "id": "32cdd9c5-dda2-4087-b75b-0f67275502f4",
   "metadata": {},
   "outputs": [],
   "source": [
    "pic"
   ]
  },
  {
   "cell_type": "markdown",
   "id": "3f954a0d-88d0-433a-a86e-2d26c7f8ceaa",
   "metadata": {},
   "source": [
    "From (100, 0) to (100, bottom-of-picture) should be a vertical line across the whole image, 100 pixels from the left edge."
   ]
  },
  {
   "cell_type": "code",
   "execution_count": null,
   "id": "3d6248be-8150-4d57-925b-1a51d2ff8527",
   "metadata": {},
   "outputs": [],
   "source": [
    "drawing.line((100, 0, 100, pic.height))"
   ]
  },
  {
   "cell_type": "code",
   "execution_count": null,
   "id": "0e7d157b-60d5-41b6-93dd-d4f9277e3cdf",
   "metadata": {},
   "outputs": [],
   "source": [
    "pic"
   ]
  },
  {
   "cell_type": "markdown",
   "id": "1601c3f7-632d-43ff-b2ea-b7b8c6760538",
   "metadata": {},
   "source": [
    "Now put another vertical line at 200 pixels over.  Fill in the \"arguments\" like the last one, but this time, both X values should be 200, not 100."
   ]
  },
  {
   "cell_type": "code",
   "execution_count": null,
   "id": "5a4f6e8a-6b2b-4f77-9d31-602d7851739d",
   "metadata": {},
   "outputs": [],
   "source": [
    "drawing.line((   ,    ,    ,    ))"
   ]
  },
  {
   "cell_type": "code",
   "execution_count": null,
   "id": "fbe79e24-acd3-47c9-9a50-aac09bd66079",
   "metadata": {},
   "outputs": [],
   "source": [
    "pic"
   ]
  },
  {
   "cell_type": "markdown",
   "id": "2da43aab-f487-4437-abb4-5bad81ac0b6b",
   "metadata": {},
   "source": [
    "**I'M BORED!**  We'd better learn to do \"loops\".\n",
    "\n",
    "# Loops"
   ]
  },
  {
   "cell_type": "markdown",
   "id": "97f6c3ee-a5b8-4a22-a18e-f958b92bb0ef",
   "metadata": {},
   "source": [
    "We want to call `drawing.line` a bunch of times, for a bunch of different X values.  We'll start by defining a \"list\" - it's a lot like a \"tuple\" (we won't even worry about the differences right now"
   ]
  },
  {
   "cell_type": "code",
   "execution_count": null,
   "id": "38e8a7e1-9a86-48cb-87ac-8a0e2ec5c5ca",
   "metadata": {},
   "outputs": [],
   "source": [
    "x_values = [0, 100, 200, 300, 400, 500, 600, 700]"
   ]
  },
  {
   "cell_type": "code",
   "execution_count": null,
   "id": "5e988165-ee26-47a6-8ed0-c8d8d0434261",
   "metadata": {},
   "outputs": [],
   "source": [
    "x_values"
   ]
  },
  {
   "cell_type": "markdown",
   "id": "a0a401f7-f76f-4df9-af62-630688dada39",
   "metadata": {},
   "source": [
    "We could call `draw.line` for each value in x_values this way, using first the \"zero-th\" element in the list, then the first, then the second..."
   ]
  },
  {
   "cell_type": "code",
   "execution_count": null,
   "id": "6f8b685c-4fbc-4c92-9d1e-1520cdf3aeb4",
   "metadata": {},
   "outputs": [],
   "source": [
    "drawing.line((x_values[0], 0, x_values[0], pic.height))\n",
    "drawing.line((x_values[1], 0, x_values[1], pic.height))\n",
    "drawing.line((x_values[2], 0, x_values[2], pic.height))\n",
    "drawing.line((x_values[3], 0, x_values[3], pic.height))"
   ]
  },
  {
   "cell_type": "code",
   "execution_count": null,
   "id": "d4e51886-01e5-4a89-87ed-0db077528fa5",
   "metadata": {},
   "outputs": [],
   "source": [
    "pic"
   ]
  },
  {
   "cell_type": "markdown",
   "id": "a9841a07-1e20-4c27-8d7e-680e2d23c87d",
   "metadata": {},
   "source": [
    "**I'M STILL BORED!**  Let's \"loop\" over our list of x_values."
   ]
  },
  {
   "cell_type": "code",
   "execution_count": null,
   "id": "8ddfd922-d012-4067-8fec-6d6d4ee7a3ee",
   "metadata": {},
   "outputs": [],
   "source": [
    "x_values"
   ]
  },
  {
   "cell_type": "code",
   "execution_count": null,
   "id": "d147e6c3-16fe-437d-ac99-7e5e86800a83",
   "metadata": {},
   "outputs": [],
   "source": [
    "for x in x_values:\n",
    "    drawing.line((x, 0, x, pic.height))"
   ]
  },
  {
   "cell_type": "markdown",
   "id": "83c9a1c9-0f5b-4029-8108-73f0d1ea314f",
   "metadata": {},
   "source": [
    "We never used an `x =` statement to \"assign\" a value to `x`, but it's implied in the `for` statement.  The loop will run once for every element in `x_values`, and each time, `x` will be assigned to point to that element."
   ]
  },
  {
   "cell_type": "code",
   "execution_count": null,
   "id": "c9d609d7-600f-4068-ae82-2c4d8e6d6dd9",
   "metadata": {},
   "outputs": [],
   "source": [
    "pic"
   ]
  },
  {
   "cell_type": "markdown",
   "id": "e6ebe2b3-3f92-4338-98c6-275bd3d80e69",
   "metadata": {},
   "source": [
    "We want to go all the way across our picture, and there's a shortcut to produce a list of x_values, called `range`.  \n",
    "`range` is a \"function\", which is basically a \"method\" that isn't attached to any particular object."
   ]
  },
  {
   "cell_type": "code",
   "execution_count": null,
   "id": "44268113-50a3-4075-a501-00bdbee08da3",
   "metadata": {},
   "outputs": [],
   "source": [
    "range?"
   ]
  },
  {
   "cell_type": "markdown",
   "id": "f2bca7c3-3be7-47bf-ba3a-7648908a06bf",
   "metadata": {},
   "source": [
    "You need to turn a range into a list to see what it contains, so we'll do that, too.  This range goes *from* 0 *to* (just short of) 500 in *steps of* 100."
   ]
  },
  {
   "cell_type": "code",
   "execution_count": null,
   "id": "42965d16-9dd3-4635-9504-47f461f5319a",
   "metadata": {},
   "outputs": [],
   "source": [
    "list(range(0, 500, 100))"
   ]
  },
  {
   "cell_type": "markdown",
   "id": "8838e95a-817b-40a5-9909-acfa2edfda41",
   "metadata": {},
   "source": [
    "So, to go all the way to the right edge, "
   ]
  },
  {
   "cell_type": "code",
   "execution_count": null,
   "id": "60b1e9ea-0169-472b-bb5d-a944c34f8723",
   "metadata": {},
   "outputs": [],
   "source": [
    "list(range(0, pic.width, 100))"
   ]
  },
  {
   "cell_type": "markdown",
   "id": "f4a08f49-89ca-4c90-94f6-e550ed111c9d",
   "metadata": {},
   "source": [
    "Now we can loop over that and draw lines:"
   ]
  },
  {
   "cell_type": "code",
   "execution_count": null,
   "id": "491373e3-e783-4338-85e9-09cc122ce2af",
   "metadata": {},
   "outputs": [],
   "source": [
    "for x in list(range(0, pic.width, 100)):\n",
    "    drawing.line((x, 0, x, pic.height))"
   ]
  },
  {
   "cell_type": "code",
   "execution_count": null,
   "id": "247dec5e-5acf-40b4-829b-50324faee8bd",
   "metadata": {},
   "outputs": [],
   "source": [
    "pic"
   ]
  },
  {
   "cell_type": "markdown",
   "id": "973e9bf3-b243-4e19-afc3-81031073a7db",
   "metadata": {},
   "source": [
    "We actually don't need to use `list` in here.  That was just a trick so that we could see what the `range` produced.  The `for` statement can loop over a `range` directly.  Let's put fine lines in just the right edge."
   ]
  },
  {
   "cell_type": "code",
   "execution_count": null,
   "id": "70325a97-26d2-44ee-8242-8986afb4eb0d",
   "metadata": {},
   "outputs": [],
   "source": [
    "for x in range(pic.width - 200, pic.width, 25):\n",
    "    drawing.line((x, 0, x, pic.height))"
   ]
  },
  {
   "cell_type": "code",
   "execution_count": null,
   "id": "c693f8e5-765d-472e-a7c5-ae963efe0636",
   "metadata": {},
   "outputs": [],
   "source": [
    "pic"
   ]
  },
  {
   "cell_type": "markdown",
   "id": "6a74fec7-47fc-4a6b-9c35-64ec2509cbb1",
   "metadata": {},
   "source": [
    "Now let's add horizontal lines."
   ]
  },
  {
   "cell_type": "code",
   "execution_count": null,
   "id": "257abe7e-902b-4237-a544-6c674164e94b",
   "metadata": {},
   "outputs": [],
   "source": [
    "for y in range(0, pic.height, 100):\n",
    "    drawing.line((0, y, pic.width, y))"
   ]
  },
  {
   "cell_type": "code",
   "execution_count": null,
   "id": "3081f56c-8edc-4d9f-926e-c802ead66a9e",
   "metadata": {},
   "outputs": [],
   "source": [
    "pic"
   ]
  },
  {
   "cell_type": "markdown",
   "id": "821803d5-84cc-44f1-82bb-afac57184740",
   "metadata": {},
   "source": [
    "Now we can finally zoom in on our face.  Looks like it's from about (800, 200) to (1100, 500).  There's another method, `crop`, to take just that portion."
   ]
  },
  {
   "cell_type": "code",
   "execution_count": null,
   "id": "fa332b1b-4169-46de-8648-fa7bcd8cd271",
   "metadata": {},
   "outputs": [],
   "source": [
    "face = pic.crop((800, 200, 1100, 500))"
   ]
  },
  {
   "cell_type": "code",
   "execution_count": null,
   "id": "2275924a-4967-4c62-8288-097028c6c108",
   "metadata": {},
   "outputs": [],
   "source": [
    "face"
   ]
  },
  {
   "cell_type": "markdown",
   "id": "76cbde4c-719b-4079-9979-e9a7515e119a",
   "metadata": {},
   "source": [
    "We don't really want those lines on there, so let's create `face` again - this time, let's crop it from the original `img` object, the one we haven't been drawing on like crazed toddlers.  You help - Call `.crop` again, this time \"passing\" the \"argument\" `pic`.  Remember that you need to enclose the argument in `()`"
   ]
  },
  {
   "cell_type": "code",
   "execution_count": null,
   "id": "8a6d5caa-fe4f-495d-98a5-902b9ac172b2",
   "metadata": {},
   "outputs": [],
   "source": [
    "# You will need to add \"arguments\" inside `()` to your `.crop` call\n",
    "face = img.crop(800, 200, 1100, 500)"
   ]
  },
  {
   "cell_type": "code",
   "execution_count": null,
   "id": "cb1ad9e1-d52c-455b-9040-08ac3cd028ea",
   "metadata": {},
   "outputs": [],
   "source": [
    "face"
   ]
  },
  {
   "cell_type": "markdown",
   "id": "83a66955-f0ca-4bc6-ad3b-85a476d26836",
   "metadata": {},
   "source": [
    "If you see something like `<bound method Image.crop of <PIL.Image.Image image mode=RGB size=1400x954 at 0x71C76C1034D0>` instead of a turtle face, \n",
    "it's because you didn't use `pic.crop((800, 200, 1100, 500))` to actually \"call\" the method with the argument `pic` - fix the cell and execute it again!\n",
    "\n",
    "If you see `TypeError: Image.crop() takes from 1 to 2 positional arguments but 5 were given`, you probably left some parentheses out.  You need one set of `()` to enclose the argument - but then the argument you're passing in is a *tuple*, with its own set of `()` including the four numbers there."
   ]
  },
  {
   "cell_type": "markdown",
   "id": "ed25b395-321a-4df9-9203-db4700866564",
   "metadata": {},
   "source": [
    "# Writing"
   ]
  },
  {
   "cell_type": "code",
   "execution_count": null,
   "id": "6dd121a2-a6c0-4b2c-ac52-bbb6226eb53f",
   "metadata": {},
   "outputs": [],
   "source": [
    "face_drawing = ImageDraw.Draw(face)"
   ]
  },
  {
   "cell_type": "code",
   "execution_count": null,
   "id": "e541e5c1-27ac-4eba-bd13-8ee2d8f6828f",
   "metadata": {},
   "outputs": [],
   "source": [
    "face_drawing.text?"
   ]
  },
  {
   "cell_type": "code",
   "execution_count": null,
   "id": "034cf6ac-fec5-4c07-95f7-8917ce48365b",
   "metadata": {},
   "outputs": [],
   "source": [
    "face_drawing.text((100, 250), \"turtle\")"
   ]
  },
  {
   "cell_type": "code",
   "execution_count": null,
   "id": "aae54dd9-c46b-43f2-b3f8-ecdbfbce0034",
   "metadata": {},
   "outputs": [],
   "source": [
    "face"
   ]
  },
  {
   "cell_type": "code",
   "execution_count": null,
   "id": "05276b09-ef05-4e17-9d00-bd62c1d9de6b",
   "metadata": {},
   "outputs": [],
   "source": [
    "from PIL import ImageFont"
   ]
  },
  {
   "cell_type": "code",
   "execution_count": null,
   "id": "a0a6e23c-ad9d-43a0-9cfd-89be5c6d8108",
   "metadata": {},
   "outputs": [],
   "source": [
    "ImageFont."
   ]
  },
  {
   "cell_type": "code",
   "execution_count": null,
   "id": "7bae7ee9-2302-42b3-a289-04e185c7e0ea",
   "metadata": {},
   "outputs": [],
   "source": [
    "ImageFont.load_default?"
   ]
  },
  {
   "cell_type": "code",
   "execution_count": null,
   "id": "934d40df-c2c1-4563-851f-79e34c32cd24",
   "metadata": {},
   "outputs": [],
   "source": [
    "ImageFont.load_default(24)"
   ]
  },
  {
   "cell_type": "code",
   "execution_count": null,
   "id": "6c461a53-6a74-44a7-abb9-4ca5e3b821bc",
   "metadata": {},
   "outputs": [],
   "source": [
    "medium_font = ImageFont.load_default(24)"
   ]
  },
  {
   "cell_type": "code",
   "execution_count": null,
   "id": "31eef9f6-f81b-4c03-8f0a-3d7d2419df32",
   "metadata": {},
   "outputs": [],
   "source": [
    "face_drawing.text?"
   ]
  },
  {
   "cell_type": "markdown",
   "id": "506add5f-dbb2-4882-875a-82753d6b27dc",
   "metadata": {},
   "source": [
    "We want to give specific values for xy and text - those come first - but then we want to specify `font` and `align` without giving values about all the in-between possible arguments (`fill`, `anchor`, `spacing`).  So we \"pass named arguments\" with the `=` sign:"
   ]
  },
  {
   "cell_type": "code",
   "execution_count": null,
   "id": "af285c68-bf99-4e84-82be-45ccc1f3b0ce",
   "metadata": {},
   "outputs": [],
   "source": [
    "face_drawing.text(\n",
    "    (face.width / 2, 220),  \n",
    "    \"turtle\",\n",
    "    font=medium_font,\n",
    "    anchor='ma')"
   ]
  },
  {
   "cell_type": "code",
   "execution_count": null,
   "id": "3f6d76fe-6114-4835-a8e1-1d665bdcc9cd",
   "metadata": {},
   "outputs": [],
   "source": [
    "face"
   ]
  },
  {
   "cell_type": "markdown",
   "id": "c8682cdc-ffc1-4854-b6be-ca03cd43d507",
   "metadata": {},
   "source": [
    "I had to look up what to use for \"anchor\" in the [Pillow documentation](https://pillow.readthedocs.io/en/stable/handbook/text-anchors.html#text-anchors).\n",
    "                            "
   ]
  },
  {
   "cell_type": "markdown",
   "id": "11f0feea-8637-400a-b22d-a325301af31e",
   "metadata": {},
   "source": [
    "# Paste images together"
   ]
  },
  {
   "cell_type": "markdown",
   "id": "58a7bb4f-1ab7-466e-b923-7608bdb147fb",
   "metadata": {},
   "source": [
    "You can paste one image into another."
   ]
  },
  {
   "cell_type": "code",
   "execution_count": null,
   "id": "8feab798-89dd-4f7f-a94d-71406ac5b041",
   "metadata": {},
   "outputs": [],
   "source": [
    "pic2 = img.copy()"
   ]
  },
  {
   "cell_type": "code",
   "execution_count": null,
   "id": "bc5f10c1-f28f-4e7e-814e-03be55309786",
   "metadata": {},
   "outputs": [],
   "source": [
    "pic2.paste?"
   ]
  },
  {
   "cell_type": "code",
   "execution_count": null,
   "id": "aaab290c-2859-43b6-9365-48d31d5468a9",
   "metadata": {},
   "outputs": [],
   "source": [
    "pic2.paste(face, (200, 200))"
   ]
  },
  {
   "cell_type": "code",
   "execution_count": null,
   "id": "f1269a62-8966-4eae-abf2-f6997d1e1ec8",
   "metadata": {},
   "outputs": [],
   "source": [
    "pic2"
   ]
  },
  {
   "cell_type": "code",
   "execution_count": null,
   "id": "be5e9d88-1e1d-4497-9b91-502d9483d16b",
   "metadata": {},
   "outputs": [],
   "source": [
    "pic2.paste(face, (500, 500))\n",
    "pic2.paste(face, (800, 400))"
   ]
  },
  {
   "cell_type": "code",
   "execution_count": null,
   "id": "9e73216a-e058-4681-bb5c-b9edf7f0149e",
   "metadata": {},
   "outputs": [],
   "source": [
    "pic2"
   ]
  },
  {
   "cell_type": "markdown",
   "id": "008b5d1e-08d9-4696-849c-74da9d67210e",
   "metadata": {},
   "source": [
    "For a classic side-by-side meme, you probably want to create an empty image (of appropriate size), then paste pictures into that.  We'll copy the `mode` from the image we already have."
   ]
  },
  {
   "cell_type": "code",
   "execution_count": null,
   "id": "a103f8a0-5ec6-4a2e-a2be-652df235d41d",
   "metadata": {},
   "outputs": [],
   "source": [
    "Image.new?"
   ]
  },
  {
   "cell_type": "code",
   "execution_count": null,
   "id": "c6e696a7-6454-460b-ad05-dec47723c769",
   "metadata": {},
   "outputs": [],
   "source": [
    "meme = Image.new(mode=face.mode, size=(face.width * 2, face.height))"
   ]
  },
  {
   "cell_type": "code",
   "execution_count": null,
   "id": "e2d13915-4dbe-4b72-ace1-fa8ed1b54a6a",
   "metadata": {},
   "outputs": [],
   "source": [
    "meme"
   ]
  },
  {
   "cell_type": "code",
   "execution_count": null,
   "id": "b444ef4d-82a4-4cb6-a482-53cf6c6955e8",
   "metadata": {},
   "outputs": [],
   "source": [
    "meme.paste(face, (0, 0))\n",
    "meme.paste(face, (face.width, 0))"
   ]
  },
  {
   "cell_type": "code",
   "execution_count": null,
   "id": "6d8e7610-86b6-4c75-bf5a-c13b7dc62af5",
   "metadata": {},
   "outputs": [],
   "source": [
    "meme"
   ]
  },
  {
   "cell_type": "markdown",
   "id": "988929b9-2fba-4280-8e7d-69ef10ee55a0",
   "metadata": {},
   "source": []
  },
  {
   "cell_type": "markdown",
   "id": "efe0866d-4950-48c0-adf6-613adb37e47e",
   "metadata": {},
   "source": [
    "# Resizing\n",
    "\n",
    "Options for resizing an image, with variations on how to account for a difference in shape between the new box and the original image:"
   ]
  },
  {
   "cell_type": "code",
   "execution_count": null,
   "id": "ce336117-052c-4322-8e5f-4346ed5daa16",
   "metadata": {},
   "outputs": [],
   "source": [
    "box = (150, 150)"
   ]
  },
  {
   "cell_type": "code",
   "execution_count": null,
   "id": "4f2a54c7-8cee-4bda-87ab-b3e4863e0d31",
   "metadata": {},
   "outputs": [],
   "source": [
    "ImageOps.contain(img, box)"
   ]
  },
  {
   "cell_type": "code",
   "execution_count": null,
   "id": "ace3aa42-7727-49fb-8218-f0a6aefef431",
   "metadata": {},
   "outputs": [],
   "source": [
    "ImageOps.cover(img, box)"
   ]
  },
  {
   "cell_type": "code",
   "execution_count": null,
   "id": "aa787f97-7dbe-4032-8979-9e075318b4c3",
   "metadata": {},
   "outputs": [],
   "source": [
    "ImageOps.fit(img, box)"
   ]
  },
  {
   "cell_type": "code",
   "execution_count": null,
   "id": "2c116bfc-070c-48b1-8a67-51aaa48db7d0",
   "metadata": {},
   "outputs": [],
   "source": [
    "ImageOps.pad(img, box)"
   ]
  },
  {
   "cell_type": "markdown",
   "id": "c46de964-382b-4dd2-bb70-840660b2815a",
   "metadata": {},
   "source": [
    "# Dictionaries"
   ]
  },
  {
   "cell_type": "code",
   "execution_count": null,
   "id": "85c021a4-5a32-406f-84f3-2ca1ecbfbd9e",
   "metadata": {},
   "outputs": [],
   "source": [
    "x_values"
   ]
  },
  {
   "cell_type": "code",
   "execution_count": null,
   "id": "e3be59ab-bdd5-49bc-9c6c-8b39d71a53b9",
   "metadata": {},
   "outputs": [],
   "source": [
    "x_values[0]"
   ]
  },
  {
   "cell_type": "code",
   "execution_count": null,
   "id": "b645decc-5f14-4593-880b-ad13701315d5",
   "metadata": {},
   "outputs": [],
   "source": [
    "x_values[3]"
   ]
  },
  {
   "cell_type": "code",
   "execution_count": null,
   "id": "a5044c43-4dd8-416c-98be-6a65335d7082",
   "metadata": {},
   "outputs": [],
   "source": [
    "x_values[-1]"
   ]
  },
  {
   "cell_type": "code",
   "execution_count": null,
   "id": "a4f4fa31-74c0-4e1c-a916-4adf1b2860d4",
   "metadata": {},
   "outputs": [],
   "source": [
    "img.size"
   ]
  },
  {
   "cell_type": "code",
   "execution_count": null,
   "id": "9522500e-4f63-4375-aa78-f95ab9253966",
   "metadata": {},
   "outputs": [],
   "source": [
    "tiny = ImageOps.contain(img, (100, 100))\n",
    "small = ImageOps.contain(img, (100, 100))\n",
    "medium = ImageOps.contain(img, (700, 700))\n",
    "giant = ImageOps.contain(img, (img.width * 2, img.height * 2))"
   ]
  },
  {
   "cell_type": "code",
   "execution_count": null,
   "id": "e5df8166-672e-4975-88dc-6f0d4b6d8af7",
   "metadata": {},
   "outputs": [],
   "source": [
    "giant"
   ]
  },
  {
   "cell_type": "code",
   "execution_count": null,
   "id": "644cefa0-160c-4787-90d5-856ef125344d",
   "metadata": {},
   "outputs": [],
   "source": [
    "turts = {\n",
    "    'tiny': ImageOps.contain(img, (100, 100)), \n",
    "    'small': ImageOps.contain(img, (100, 100)),\n",
    "    'medium': ImageOps.contain(img, (700, 700)),\n",
    "    'giant': ImageOps.contain(img, (img.width * 2, img.height * 2))}"
   ]
  },
  {
   "cell_type": "code",
   "execution_count": null,
   "id": "8a98e472-173f-48d3-85a1-1e36381ac3ab",
   "metadata": {},
   "outputs": [],
   "source": [
    "turts"
   ]
  },
  {
   "cell_type": "code",
   "execution_count": null,
   "id": "b457219c-b058-45ad-a44b-5f214fddd537",
   "metadata": {},
   "outputs": [],
   "source": [
    "turts['small']"
   ]
  },
  {
   "cell_type": "code",
   "execution_count": null,
   "id": "81423bec-792b-49f1-a79f-17116ad1aff3",
   "metadata": {},
   "outputs": [],
   "source": [
    "for turt in turts:\n",
    "    print(turt)"
   ]
  },
  {
   "cell_type": "code",
   "execution_count": null,
   "id": "fd533dbc-0214-4b21-9194-2052c11b52b3",
   "metadata": {},
   "outputs": [],
   "source": [
    "for turt in turts.keys():\n",
    "    print(turt)"
   ]
  },
  {
   "cell_type": "code",
   "execution_count": null,
   "id": "06b8e557-9c76-42ae-8a01-33174f78dd37",
   "metadata": {},
   "outputs": [],
   "source": [
    "for turt in turts.values():\n",
    "    print(turt)"
   ]
  },
  {
   "cell_type": "code",
   "execution_count": null,
   "id": "6507aa5f-7d30-4a94-be80-e58890b754e1",
   "metadata": {},
   "outputs": [],
   "source": [
    "for turt in turts.items():\n",
    "    print(turt)"
   ]
  },
  {
   "cell_type": "code",
   "execution_count": null,
   "id": "93e26d69-3bde-4c30-82f7-a790d5739936",
   "metadata": {},
   "outputs": [],
   "source": [
    "turts['giant'].paste(turts['medium'], (0, 0))"
   ]
  },
  {
   "cell_type": "code",
   "execution_count": null,
   "id": "4962d80c-16b0-41ce-86be-7d2cd6d10be4",
   "metadata": {},
   "outputs": [],
   "source": [
    "turts['giant']"
   ]
  },
  {
   "cell_type": "markdown",
   "id": "af68b37e-4ee6-4f20-aec2-48838478a391",
   "metadata": {},
   "source": [
    "### Your turn\n",
    "\n",
    "Paste in the tiny turtle."
   ]
  },
  {
   "cell_type": "code",
   "execution_count": null,
   "id": "cf661150-7da1-42e1-ae4e-eb3f68a48696",
   "metadata": {},
   "outputs": [],
   "source": [
    "turts['giant'].paste(turts[], (0, 0))"
   ]
  },
  {
   "cell_type": "markdown",
   "id": "a5bae265-c027-4970-be5a-d7b3d9d84a34",
   "metadata": {},
   "source": [
    "# Next\n",
    "\n",
    "- [Functions](functions.ipynb)\n",
    "- [Your Meme](meme.ipynb)\n",
    "- (Optional) [Filters](filterns.ipynb)\n",
    "- (Optional) [Randomness](randomness.ipynb)\n",
    "- (Optional) a [blank playground](blank.ipynb)"
   ]
  },
  {
   "cell_type": "code",
   "execution_count": null,
   "id": "ea219bc7-52d8-4896-a5c4-9a2fc2290eee",
   "metadata": {},
   "outputs": [],
   "source": []
  }
 ],
 "metadata": {
  "kernelspec": {
   "display_name": "Python 3 (ipykernel)",
   "language": "python",
   "name": "python3"
  },
  "language_info": {
   "codemirror_mode": {
    "name": "ipython",
    "version": 3
   },
   "file_extension": ".py",
   "mimetype": "text/x-python",
   "name": "python",
   "nbconvert_exporter": "python",
   "pygments_lexer": "ipython3",
   "version": "3.12.3"
  }
 },
 "nbformat": 4,
 "nbformat_minor": 5
}
